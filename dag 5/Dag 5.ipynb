{
 "cells": [
  {
   "cell_type": "markdown",
   "id": "alleged-officer",
   "metadata": {},
   "source": [
    "Excersise 1a (but I use two versions of it a and A"
   ]
  },
  {
   "cell_type": "code",
   "execution_count": 10,
   "id": "eight-blame",
   "metadata": {},
   "outputs": [],
   "source": [
    "import numpy as np"
   ]
  },
  {
   "cell_type": "code",
   "execution_count": 25,
   "id": "approximate-monkey",
   "metadata": {},
   "outputs": [],
   "source": [
    "a = np.array([[1, 2, 3], [4, 5, 6], [7, 8, 9]])"
   ]
  },
  {
   "cell_type": "code",
   "execution_count": 18,
   "id": "harmful-steam",
   "metadata": {},
   "outputs": [],
   "source": [
    "A = np.array([[3, 2, 0], [1, -1, 0], [0, 5, 1]])"
   ]
  },
  {
   "cell_type": "markdown",
   "id": "focused-delivery",
   "metadata": {},
   "source": [
    "Excersise 1b (again two versions)"
   ]
  },
  {
   "cell_type": "code",
   "execution_count": 14,
   "id": "compatible-chancellor",
   "metadata": {},
   "outputs": [],
   "source": [
    "b = np.array([1,2,3])"
   ]
  },
  {
   "cell_type": "code",
   "execution_count": 19,
   "id": "cloudy-talent",
   "metadata": {},
   "outputs": [],
   "source": [
    "B = np.array([2, 4, -1])"
   ]
  },
  {
   "cell_type": "markdown",
   "id": "based-croatia",
   "metadata": {},
   "source": [
    "Excersise 1c (again two versions)"
   ]
  },
  {
   "cell_type": "code",
   "execution_count": 16,
   "id": "advanced-consumer",
   "metadata": {},
   "outputs": [],
   "source": [
    "from scipy import linalg"
   ]
  },
  {
   "cell_type": "code",
   "execution_count": 33,
   "id": "charged-shoot",
   "metadata": {},
   "outputs": [],
   "source": [
    "X = linalg.solve(A,B)"
   ]
  },
  {
   "cell_type": "code",
   "execution_count": 34,
   "id": "hispanic-limit",
   "metadata": {},
   "outputs": [
    {
     "name": "stdout",
     "output_type": "stream",
     "text": [
      "[ 2. -2.  9.]\n"
     ]
    }
   ],
   "source": [
    "print(X)"
   ]
  },
  {
   "cell_type": "code",
   "execution_count": 36,
   "id": "invalid-harris",
   "metadata": {},
   "outputs": [
    {
     "ename": "LinAlgError",
     "evalue": "Matrix is singular.",
     "output_type": "error",
     "traceback": [
      "\u001b[1;31m---------------------------------------------------------------------------\u001b[0m",
      "\u001b[1;31mLinAlgError\u001b[0m                               Traceback (most recent call last)",
      "\u001b[1;32m<ipython-input-36-b7ce33c0216e>\u001b[0m in \u001b[0;36m<module>\u001b[1;34m\u001b[0m\n\u001b[1;32m----> 1\u001b[1;33m \u001b[0mx\u001b[0m \u001b[1;33m=\u001b[0m \u001b[0mlinalg\u001b[0m\u001b[1;33m.\u001b[0m\u001b[0msolve\u001b[0m\u001b[1;33m(\u001b[0m\u001b[0ma\u001b[0m\u001b[1;33m,\u001b[0m\u001b[0mb\u001b[0m\u001b[1;33m)\u001b[0m\u001b[1;33m\u001b[0m\u001b[1;33m\u001b[0m\u001b[0m\n\u001b[0m",
      "\u001b[1;32m~\\AppData\\Local\\Programs\\Python\\Python38\\lib\\site-packages\\scipy\\linalg\\basic.py\u001b[0m in \u001b[0;36msolve\u001b[1;34m(a, b, sym_pos, lower, overwrite_a, overwrite_b, debug, check_finite, assume_a, transposed)\u001b[0m\n\u001b[0;32m    212\u001b[0m                                                (a1, b1))\n\u001b[0;32m    213\u001b[0m         \u001b[0mlu\u001b[0m\u001b[1;33m,\u001b[0m \u001b[0mipvt\u001b[0m\u001b[1;33m,\u001b[0m \u001b[0minfo\u001b[0m \u001b[1;33m=\u001b[0m \u001b[0mgetrf\u001b[0m\u001b[1;33m(\u001b[0m\u001b[0ma1\u001b[0m\u001b[1;33m,\u001b[0m \u001b[0moverwrite_a\u001b[0m\u001b[1;33m=\u001b[0m\u001b[0moverwrite_a\u001b[0m\u001b[1;33m)\u001b[0m\u001b[1;33m\u001b[0m\u001b[1;33m\u001b[0m\u001b[0m\n\u001b[1;32m--> 214\u001b[1;33m         \u001b[0m_solve_check\u001b[0m\u001b[1;33m(\u001b[0m\u001b[0mn\u001b[0m\u001b[1;33m,\u001b[0m \u001b[0minfo\u001b[0m\u001b[1;33m)\u001b[0m\u001b[1;33m\u001b[0m\u001b[1;33m\u001b[0m\u001b[0m\n\u001b[0m\u001b[0;32m    215\u001b[0m         x, info = getrs(lu, ipvt, b1,\n\u001b[0;32m    216\u001b[0m                         trans=trans, overwrite_b=overwrite_b)\n",
      "\u001b[1;32m~\\AppData\\Local\\Programs\\Python\\Python38\\lib\\site-packages\\scipy\\linalg\\basic.py\u001b[0m in \u001b[0;36m_solve_check\u001b[1;34m(n, info, lamch, rcond)\u001b[0m\n\u001b[0;32m     27\u001b[0m                          '.'.format(-info))\n\u001b[0;32m     28\u001b[0m     \u001b[1;32melif\u001b[0m \u001b[1;36m0\u001b[0m \u001b[1;33m<\u001b[0m \u001b[0minfo\u001b[0m\u001b[1;33m:\u001b[0m\u001b[1;33m\u001b[0m\u001b[1;33m\u001b[0m\u001b[0m\n\u001b[1;32m---> 29\u001b[1;33m         \u001b[1;32mraise\u001b[0m \u001b[0mLinAlgError\u001b[0m\u001b[1;33m(\u001b[0m\u001b[1;34m'Matrix is singular.'\u001b[0m\u001b[1;33m)\u001b[0m\u001b[1;33m\u001b[0m\u001b[1;33m\u001b[0m\u001b[0m\n\u001b[0m\u001b[0;32m     30\u001b[0m \u001b[1;33m\u001b[0m\u001b[0m\n\u001b[0;32m     31\u001b[0m     \u001b[1;32mif\u001b[0m \u001b[0mlamch\u001b[0m \u001b[1;32mis\u001b[0m \u001b[1;32mNone\u001b[0m\u001b[1;33m:\u001b[0m\u001b[1;33m\u001b[0m\u001b[1;33m\u001b[0m\u001b[0m\n",
      "\u001b[1;31mLinAlgError\u001b[0m: Matrix is singular."
     ]
    }
   ],
   "source": [
    "x = linalg.solve(a,b)"
   ]
  },
  {
   "cell_type": "markdown",
   "id": "conceptual-cabin",
   "metadata": {},
   "source": [
    "I don't understand why I should continue beyond this as it's not possible to solve the system. I'm satisfied that it worked for capital variables from documentation."
   ]
  },
  {
   "cell_type": "markdown",
   "id": "assured-korea",
   "metadata": {},
   "source": [
    "Excersise 1d"
   ]
  },
  {
   "cell_type": "code",
   "execution_count": 35,
   "id": "smoking-florist",
   "metadata": {},
   "outputs": [
    {
     "name": "stdout",
     "output_type": "stream",
     "text": [
      "[ 2.  4. -1.]\n"
     ]
    }
   ],
   "source": [
    "print(np.matmul(A,X))"
   ]
  },
  {
   "cell_type": "markdown",
   "id": "recorded-latin",
   "metadata": {},
   "source": [
    "Excersise 1e (using the capital version)"
   ]
  },
  {
   "cell_type": "code",
   "execution_count": 47,
   "id": "automated-newport",
   "metadata": {},
   "outputs": [],
   "source": [
    "B = np.random.rand(3,3)"
   ]
  },
  {
   "cell_type": "code",
   "execution_count": 48,
   "id": "fifty-thunder",
   "metadata": {},
   "outputs": [
    {
     "data": {
      "text/plain": [
       "array([[0.66028145, 0.18600481, 0.70899882],\n",
       "       [0.23753571, 0.71211405, 0.94032578],\n",
       "       [0.65325573, 0.74054656, 0.58442392]])"
      ]
     },
     "execution_count": 48,
     "metadata": {},
     "output_type": "execute_result"
    }
   ],
   "source": [
    "B"
   ]
  },
  {
   "cell_type": "code",
   "execution_count": 52,
   "id": "interesting-property",
   "metadata": {},
   "outputs": [],
   "source": [
    "X = linalg.solve(A,B)"
   ]
  },
  {
   "cell_type": "code",
   "execution_count": 53,
   "id": "simple-cleanup",
   "metadata": {},
   "outputs": [
    {
     "name": "stdout",
     "output_type": "stream",
     "text": [
      "[[ 0.22707057  0.32204658  0.51793008]\n",
      " [-0.01046514 -0.39006747 -0.4223957 ]\n",
      " [ 0.70558141  2.6908839   2.69640244]]\n"
     ]
    }
   ],
   "source": [
    "print(X)"
   ]
  },
  {
   "cell_type": "code",
   "execution_count": 54,
   "id": "valuable-closure",
   "metadata": {},
   "outputs": [
    {
     "name": "stdout",
     "output_type": "stream",
     "text": [
      "[[0.66028145 0.18600481 0.70899882]\n",
      " [0.23753571 0.71211405 0.94032578]\n",
      " [0.65325573 0.74054656 0.58442392]]\n"
     ]
    }
   ],
   "source": [
    "print(np.matmul(A,X))"
   ]
  },
  {
   "cell_type": "markdown",
   "id": "filled-expense",
   "metadata": {},
   "source": [
    "Excersise 1f (using the original matrix)"
   ]
  },
  {
   "cell_type": "code",
   "execution_count": 60,
   "id": "secondary-consistency",
   "metadata": {},
   "outputs": [
    {
     "data": {
      "text/plain": [
       "(array([ 1.61168440e+01+0.j, -1.11684397e+00+0.j, -1.30367773e-15+0.j]),\n",
       " array([[-0.23197069, -0.78583024,  0.40824829],\n",
       "        [-0.52532209, -0.08675134, -0.81649658],\n",
       "        [-0.8186735 ,  0.61232756,  0.40824829]]))"
      ]
     },
     "execution_count": 60,
     "metadata": {},
     "output_type": "execute_result"
    }
   ],
   "source": [
    "linalg.eig(a)"
   ]
  },
  {
   "cell_type": "markdown",
   "id": "level-joint",
   "metadata": {},
   "source": [
    "Excersise 1g (using the original matrix)"
   ]
  },
  {
   "cell_type": "code",
   "execution_count": 63,
   "id": "grand-lecture",
   "metadata": {},
   "outputs": [
    {
     "data": {
      "text/plain": [
       "-0.0"
      ]
     },
     "execution_count": 63,
     "metadata": {},
     "output_type": "execute_result"
    }
   ],
   "source": [
    "-linalg.det(a)"
   ]
  },
  {
   "cell_type": "markdown",
   "id": "killing-found",
   "metadata": {},
   "source": [
    "Was that what was asked for?"
   ]
  },
  {
   "cell_type": "markdown",
   "id": "blank-longer",
   "metadata": {},
   "source": [
    "Excersise 1h (using the original matrix)"
   ]
  },
  {
   "cell_type": "code",
   "execution_count": 64,
   "id": "adapted-logistics",
   "metadata": {},
   "outputs": [
    {
     "data": {
      "text/plain": [
       "18.0"
      ]
     },
     "execution_count": 64,
     "metadata": {},
     "output_type": "execute_result"
    }
   ],
   "source": [
    "linalg.norm(a,1)"
   ]
  },
  {
   "cell_type": "code",
   "execution_count": 65,
   "id": "thermal-fifty",
   "metadata": {},
   "outputs": [
    {
     "data": {
      "text/plain": [
       "16.84810335261421"
      ]
     },
     "execution_count": 65,
     "metadata": {},
     "output_type": "execute_result"
    }
   ],
   "source": [
    "linalg.norm(a,2)"
   ]
  }
 ],
 "metadata": {
  "kernelspec": {
   "display_name": "Python 3",
   "language": "python",
   "name": "python3"
  },
  "language_info": {
   "codemirror_mode": {
    "name": "ipython",
    "version": 3
   },
   "file_extension": ".py",
   "mimetype": "text/x-python",
   "name": "python",
   "nbconvert_exporter": "python",
   "pygments_lexer": "ipython3",
   "version": "3.8.5"
  }
 },
 "nbformat": 4,
 "nbformat_minor": 5
}
