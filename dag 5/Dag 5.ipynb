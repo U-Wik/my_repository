{
 "cells": [
  {
   "cell_type": "markdown",
   "id": "rubber-clinton",
   "metadata": {},
   "source": [
    "Excersise 1a (but I use two versions of it a and A"
   ]
  },
  {
   "cell_type": "code",
   "execution_count": 10,
   "id": "confidential-logic",
   "metadata": {},
   "outputs": [],
   "source": [
    "import numpy as np"
   ]
  },
  {
   "cell_type": "code",
   "execution_count": 25,
   "id": "approximate-monkey",
   "metadata": {},
   "outputs": [],
   "source": [
    "a = np.array([[1, 2, 3], [4, 5, 6], [7, 8, 9]])"
   ]
  },
  {
   "cell_type": "code",
   "execution_count": 18,
   "id": "familiar-venue",
   "metadata": {},
   "outputs": [],
   "source": [
    "A = np.array([[3, 2, 0], [1, -1, 0], [0, 5, 1]])"
   ]
  },
  {
   "cell_type": "markdown",
   "id": "pleased-visit",
   "metadata": {},
   "source": [
    "Excersise 1b (again two versions)"
   ]
  },
  {
   "cell_type": "code",
   "execution_count": 14,
   "id": "gothic-leader",
   "metadata": {},
   "outputs": [],
   "source": [
    "b = np.array([1,2,3])"
   ]
  },
  {
   "cell_type": "code",
   "execution_count": 19,
   "id": "upper-security",
   "metadata": {},
   "outputs": [],
   "source": [
    "B = np.array([2, 4, -1])"
   ]
  },
  {
   "cell_type": "markdown",
   "id": "pleased-maximum",
   "metadata": {},
   "source": [
    "Excersise 1c (again two versions)"
   ]
  },
  {
   "cell_type": "code",
   "execution_count": 16,
   "id": "younger-nylon",
   "metadata": {},
   "outputs": [],
   "source": [
    "from scipy import linalg"
   ]
  },
  {
   "cell_type": "code",
   "execution_count": 33,
   "id": "mental-british",
   "metadata": {},
   "outputs": [],
   "source": [
    "X = linalg.solve(A,B)"
   ]
  },
  {
   "cell_type": "code",
   "execution_count": 34,
   "id": "loose-arrival",
   "metadata": {},
   "outputs": [
    {
     "name": "stdout",
     "output_type": "stream",
     "text": [
      "[ 2. -2.  9.]\n"
     ]
    }
   ],
   "source": [
    "print(X)"
   ]
  },
  {
   "cell_type": "code",
   "execution_count": 36,
   "id": "dependent-price",
   "metadata": {},
   "outputs": [
    {
     "ename": "LinAlgError",
     "evalue": "Matrix is singular.",
     "output_type": "error",
     "traceback": [
      "\u001b[1;31m---------------------------------------------------------------------------\u001b[0m",
      "\u001b[1;31mLinAlgError\u001b[0m                               Traceback (most recent call last)",
      "\u001b[1;32m<ipython-input-36-b7ce33c0216e>\u001b[0m in \u001b[0;36m<module>\u001b[1;34m\u001b[0m\n\u001b[1;32m----> 1\u001b[1;33m \u001b[0mx\u001b[0m \u001b[1;33m=\u001b[0m \u001b[0mlinalg\u001b[0m\u001b[1;33m.\u001b[0m\u001b[0msolve\u001b[0m\u001b[1;33m(\u001b[0m\u001b[0ma\u001b[0m\u001b[1;33m,\u001b[0m\u001b[0mb\u001b[0m\u001b[1;33m)\u001b[0m\u001b[1;33m\u001b[0m\u001b[1;33m\u001b[0m\u001b[0m\n\u001b[0m",
      "\u001b[1;32m~\\AppData\\Local\\Programs\\Python\\Python38\\lib\\site-packages\\scipy\\linalg\\basic.py\u001b[0m in \u001b[0;36msolve\u001b[1;34m(a, b, sym_pos, lower, overwrite_a, overwrite_b, debug, check_finite, assume_a, transposed)\u001b[0m\n\u001b[0;32m    212\u001b[0m                                                (a1, b1))\n\u001b[0;32m    213\u001b[0m         \u001b[0mlu\u001b[0m\u001b[1;33m,\u001b[0m \u001b[0mipvt\u001b[0m\u001b[1;33m,\u001b[0m \u001b[0minfo\u001b[0m \u001b[1;33m=\u001b[0m \u001b[0mgetrf\u001b[0m\u001b[1;33m(\u001b[0m\u001b[0ma1\u001b[0m\u001b[1;33m,\u001b[0m \u001b[0moverwrite_a\u001b[0m\u001b[1;33m=\u001b[0m\u001b[0moverwrite_a\u001b[0m\u001b[1;33m)\u001b[0m\u001b[1;33m\u001b[0m\u001b[1;33m\u001b[0m\u001b[0m\n\u001b[1;32m--> 214\u001b[1;33m         \u001b[0m_solve_check\u001b[0m\u001b[1;33m(\u001b[0m\u001b[0mn\u001b[0m\u001b[1;33m,\u001b[0m \u001b[0minfo\u001b[0m\u001b[1;33m)\u001b[0m\u001b[1;33m\u001b[0m\u001b[1;33m\u001b[0m\u001b[0m\n\u001b[0m\u001b[0;32m    215\u001b[0m         x, info = getrs(lu, ipvt, b1,\n\u001b[0;32m    216\u001b[0m                         trans=trans, overwrite_b=overwrite_b)\n",
      "\u001b[1;32m~\\AppData\\Local\\Programs\\Python\\Python38\\lib\\site-packages\\scipy\\linalg\\basic.py\u001b[0m in \u001b[0;36m_solve_check\u001b[1;34m(n, info, lamch, rcond)\u001b[0m\n\u001b[0;32m     27\u001b[0m                          '.'.format(-info))\n\u001b[0;32m     28\u001b[0m     \u001b[1;32melif\u001b[0m \u001b[1;36m0\u001b[0m \u001b[1;33m<\u001b[0m \u001b[0minfo\u001b[0m\u001b[1;33m:\u001b[0m\u001b[1;33m\u001b[0m\u001b[1;33m\u001b[0m\u001b[0m\n\u001b[1;32m---> 29\u001b[1;33m         \u001b[1;32mraise\u001b[0m \u001b[0mLinAlgError\u001b[0m\u001b[1;33m(\u001b[0m\u001b[1;34m'Matrix is singular.'\u001b[0m\u001b[1;33m)\u001b[0m\u001b[1;33m\u001b[0m\u001b[1;33m\u001b[0m\u001b[0m\n\u001b[0m\u001b[0;32m     30\u001b[0m \u001b[1;33m\u001b[0m\u001b[0m\n\u001b[0;32m     31\u001b[0m     \u001b[1;32mif\u001b[0m \u001b[0mlamch\u001b[0m \u001b[1;32mis\u001b[0m \u001b[1;32mNone\u001b[0m\u001b[1;33m:\u001b[0m\u001b[1;33m\u001b[0m\u001b[1;33m\u001b[0m\u001b[0m\n",
      "\u001b[1;31mLinAlgError\u001b[0m: Matrix is singular."
     ]
    }
   ],
   "source": [
    "x = linalg.solve(a,b)"
   ]
  },
  {
   "cell_type": "markdown",
   "id": "obvious-leisure",
   "metadata": {},
   "source": [
    "I don't understand why I should continue beyond this as it's not possible to solve the system. I'm satisfied that it worked for capital variables from documentation."
   ]
  },
  {
   "cell_type": "markdown",
   "id": "american-bailey",
   "metadata": {},
   "source": [
    "Excersise 1d"
   ]
  },
  {
   "cell_type": "code",
   "execution_count": 35,
   "id": "senior-outreach",
   "metadata": {},
   "outputs": [
    {
     "name": "stdout",
     "output_type": "stream",
     "text": [
      "[ 2.  4. -1.]\n"
     ]
    }
   ],
   "source": [
    "print(np.matmul(A,X))"
   ]
  },
  {
   "cell_type": "markdown",
   "id": "inclusive-delaware",
   "metadata": {},
   "source": [
    "Excersise 1e (using the capital version)"
   ]
  },
  {
   "cell_type": "code",
   "execution_count": 47,
   "id": "organic-swing",
   "metadata": {},
   "outputs": [],
   "source": [
    "B = np.random.rand(3,3)"
   ]
  },
  {
   "cell_type": "code",
   "execution_count": 48,
   "id": "infrared-burke",
   "metadata": {},
   "outputs": [
    {
     "data": {
      "text/plain": [
       "array([[0.66028145, 0.18600481, 0.70899882],\n",
       "       [0.23753571, 0.71211405, 0.94032578],\n",
       "       [0.65325573, 0.74054656, 0.58442392]])"
      ]
     },
     "execution_count": 48,
     "metadata": {},
     "output_type": "execute_result"
    }
   ],
   "source": [
    "B"
   ]
  },
  {
   "cell_type": "code",
   "execution_count": 52,
   "id": "private-working",
   "metadata": {},
   "outputs": [],
   "source": [
    "X = linalg.solve(A,B)"
   ]
  },
  {
   "cell_type": "code",
   "execution_count": 53,
   "id": "sonic-equilibrium",
   "metadata": {},
   "outputs": [
    {
     "name": "stdout",
     "output_type": "stream",
     "text": [
      "[[ 0.22707057  0.32204658  0.51793008]\n",
      " [-0.01046514 -0.39006747 -0.4223957 ]\n",
      " [ 0.70558141  2.6908839   2.69640244]]\n"
     ]
    }
   ],
   "source": [
    "print(X)"
   ]
  },
  {
   "cell_type": "code",
   "execution_count": 54,
   "id": "excess-attraction",
   "metadata": {},
   "outputs": [
    {
     "name": "stdout",
     "output_type": "stream",
     "text": [
      "[[0.66028145 0.18600481 0.70899882]\n",
      " [0.23753571 0.71211405 0.94032578]\n",
      " [0.65325573 0.74054656 0.58442392]]\n"
     ]
    }
   ],
   "source": [
    "print(np.matmul(A,X))"
   ]
  },
  {
   "cell_type": "markdown",
   "id": "numeric-weekly",
   "metadata": {},
   "source": [
    "Excersise 1f (using the original matrix)"
   ]
  },
  {
   "cell_type": "code",
   "execution_count": 60,
   "id": "north-virginia",
   "metadata": {},
   "outputs": [
    {
     "data": {
      "text/plain": [
       "(array([ 1.61168440e+01+0.j, -1.11684397e+00+0.j, -1.30367773e-15+0.j]),\n",
       " array([[-0.23197069, -0.78583024,  0.40824829],\n",
       "        [-0.52532209, -0.08675134, -0.81649658],\n",
       "        [-0.8186735 ,  0.61232756,  0.40824829]]))"
      ]
     },
     "execution_count": 60,
     "metadata": {},
     "output_type": "execute_result"
    }
   ],
   "source": [
    "linalg.eig(a)"
   ]
  },
  {
   "cell_type": "markdown",
   "id": "unnecessary-manufacturer",
   "metadata": {},
   "source": [
    "Excersise 1g (using the original matrix)"
   ]
  },
  {
   "cell_type": "code",
   "execution_count": 63,
   "id": "august-staff",
   "metadata": {},
   "outputs": [
    {
     "data": {
      "text/plain": [
       "-0.0"
      ]
     },
     "execution_count": 63,
     "metadata": {},
     "output_type": "execute_result"
    }
   ],
   "source": [
    "-linalg.det(a)"
   ]
  },
  {
   "cell_type": "markdown",
   "id": "intended-chaos",
   "metadata": {},
   "source": [
    "Was that what was asked for?"
   ]
  },
  {
   "cell_type": "markdown",
   "id": "configured-sperm",
   "metadata": {},
   "source": [
    "Excersise 1h (using the original matrix)"
   ]
  },
  {
   "cell_type": "code",
   "execution_count": 64,
   "id": "located-oxford",
   "metadata": {},
   "outputs": [
    {
     "data": {
      "text/plain": [
       "18.0"
      ]
     },
     "execution_count": 64,
     "metadata": {},
     "output_type": "execute_result"
    }
   ],
   "source": [
    "linalg.norm(a,1)"
   ]
  },
  {
   "cell_type": "code",
   "execution_count": 65,
   "id": "ranking-archive",
   "metadata": {},
   "outputs": [
    {
     "data": {
      "text/plain": [
       "16.84810335261421"
      ]
     },
     "execution_count": 65,
     "metadata": {},
     "output_type": "execute_result"
    }
   ],
   "source": [
    "linalg.norm(a,2)"
   ]
  },
  {
   "cell_type": "markdown",
   "id": "noticed-patient",
   "metadata": {},
   "source": [
    "Excersise 1 Statistics a"
   ]
  },
  {
   "cell_type": "code",
   "execution_count": 71,
   "id": "heavy-therapist",
   "metadata": {},
   "outputs": [],
   "source": [
    "from scipy import stats"
   ]
  },
  {
   "cell_type": "code",
   "execution_count": 77,
   "id": "quality-margin",
   "metadata": {},
   "outputs": [],
   "source": [
    "from matplotlib import pyplot"
   ]
  },
  {
   "cell_type": "code",
   "execution_count": 217,
   "id": "stable-harmony",
   "metadata": {},
   "outputs": [],
   "source": [
    "x = np.arange(0, 40, 1)"
   ]
  },
  {
   "cell_type": "code",
   "execution_count": 218,
   "id": "continental-pointer",
   "metadata": {},
   "outputs": [],
   "source": [
    "y = stats.poisson.pmf(x, 10)"
   ]
  },
  {
   "cell_type": "code",
   "execution_count": 219,
   "id": "three-reunion",
   "metadata": {},
   "outputs": [
    {
     "data": {
      "text/plain": [
       "<BarContainer object of 40 artists>"
      ]
     },
     "execution_count": 219,
     "metadata": {},
     "output_type": "execute_result"
    },
    {
     "data": {
      "image/png": "[encoded data removed]",
      "text/plain": [
       "<Figure size 432x288 with 1 Axes>"
      ]
     },
     "metadata": {
      "needs_background": "light"
     },
     "output_type": "display_data"
    }
   ],
   "source": [
    "pyplot.bar(x,y)"
   ]
  },
  {
   "cell_type": "code",
   "execution_count": 220,
   "id": "million-batman",
   "metadata": {},
   "outputs": [],
   "source": [
    "y = stats.poisson.cdf(x, 10)"
   ]
  },
  {
   "cell_type": "code",
   "execution_count": 221,
   "id": "concrete-wound",
   "metadata": {},
   "outputs": [
    {
     "data": {
      "text/plain": [
       "<BarContainer object of 40 artists>"
      ]
     },
     "execution_count": 221,
     "metadata": {},
     "output_type": "execute_result"
    },
    {
     "data": {
      "image/png": "[encoded data removed]",
      "text/plain": [
       "<Figure size 432x288 with 1 Axes>"
      ]
     },
     "metadata": {
      "needs_background": "light"
     },
     "output_type": "display_data"
    }
   ],
   "source": [
    "pyplot.bar(x,y)"
   ]
  },
  {
   "cell_type": "code",
   "execution_count": 199,
   "id": "isolated-fever",
   "metadata": {},
   "outputs": [],
   "source": [
    "r = stats.poisson.rvs(10, size=1000)"
   ]
  },
  {
   "cell_type": "code",
   "execution_count": 200,
   "id": "secret-honduras",
   "metadata": {},
   "outputs": [
    {
     "data": {
      "text/plain": [
       "(array([  3.,   3.,  14.,  39.,  75.,  98., 117., 116., 126., 128.,  82.,\n",
       "         65.,  51.,  32.,  18.,  12.,  13.,   4.,   2.,   2.]),\n",
       " array([ 2.,  3.,  4.,  5.,  6.,  7.,  8.,  9., 10., 11., 12., 13., 14.,\n",
       "        15., 16., 17., 18., 19., 20., 21., 22.]),\n",
       " <BarContainer object of 20 artists>)"
      ]
     },
     "execution_count": 200,
     "metadata": {},
     "output_type": "execute_result"
    },
    {
     "data": {
      "image/png": "[encoded data removed]",
      "text/plain": [
       "<Figure size 432x288 with 1 Axes>"
      ]
     },
     "metadata": {
      "needs_background": "light"
     },
     "output_type": "display_data"
    }
   ],
   "source": [
    "pyplot.hist(r,20)"
   ]
  },
  {
   "cell_type": "markdown",
   "id": "wrapped-sheet",
   "metadata": {},
   "source": [
    "Excersise 1 Statistics b"
   ]
  },
  {
   "cell_type": "code",
   "execution_count": 224,
   "id": "arranged-flood",
   "metadata": {},
   "outputs": [],
   "source": [
    "x = np.arange(0.,40.,0.1)"
   ]
  },
  {
   "cell_type": "code",
   "execution_count": 225,
   "id": "outer-boards",
   "metadata": {},
   "outputs": [],
   "source": [
    "z = stats.norm.pdf(x,10)"
   ]
  },
  {
   "cell_type": "code",
   "execution_count": 226,
   "id": "mobile-money",
   "metadata": {},
   "outputs": [
    {
     "data": {
      "text/plain": [
       "[<matplotlib.lines.Line2D at 0x1d9c42cc7c0>]"
      ]
     },
     "execution_count": 226,
     "metadata": {},
     "output_type": "execute_result"
    },
    {
     "data": {
      "image/png": "[encoded data removed]",
      "text/plain": [
       "<Figure size 432x288 with 1 Axes>"
      ]
     },
     "metadata": {
      "needs_background": "light"
     },
     "output_type": "display_data"
    }
   ],
   "source": [
    "pyplot.plot(x,z)"
   ]
  },
  {
   "cell_type": "code",
   "execution_count": 227,
   "id": "special-sauce",
   "metadata": {},
   "outputs": [],
   "source": [
    "z = stats.norm.cdf(x,10)"
   ]
  },
  {
   "cell_type": "code",
   "execution_count": 228,
   "id": "frozen-liquid",
   "metadata": {},
   "outputs": [
    {
     "data": {
      "text/plain": [
       "[<matplotlib.lines.Line2D at 0x1d9c432cc10>]"
      ]
     },
     "execution_count": 228,
     "metadata": {},
     "output_type": "execute_result"
    },
    {
     "data": {
      "image/png": "[encoded data removed]",
      "text/plain": [
       "<Figure size 432x288 with 1 Axes>"
      ]
     },
     "metadata": {
      "needs_background": "light"
     },
     "output_type": "display_data"
    }
   ],
   "source": [
    "pyplot.plot(x,z)"
   ]
  },
  {
   "cell_type": "code",
   "execution_count": 235,
   "id": "varied-avatar",
   "metadata": {},
   "outputs": [],
   "source": [
    "r = stats.norm.rvs(10, size=1000)"
   ]
  },
  {
   "cell_type": "code",
   "execution_count": 256,
   "id": "built-growing",
   "metadata": {},
   "outputs": [
    {
     "data": {
      "text/plain": [
       "(array([  2.,   3.,  11.,  38.,  36.,  62., 100., 124., 126., 119., 114.,\n",
       "         83.,  71.,  54.,  31.,  13.,   2.,   8.,   2.,   1.]),\n",
       " array([ 7.22139328,  7.53285845,  7.84432362,  8.15578878,  8.46725395,\n",
       "         8.77871912,  9.09018429,  9.40164946,  9.71311463, 10.0245798 ,\n",
       "        10.33604497, 10.64751014, 10.9589753 , 11.27044047, 11.58190564,\n",
       "        11.89337081, 12.20483598, 12.51630115, 12.82776632, 13.13923149,\n",
       "        13.45069665]),\n",
       " <BarContainer object of 20 artists>)"
      ]
     },
     "execution_count": 256,
     "metadata": {},
     "output_type": "execute_result"
    },
    {
     "data": {
      "image/png": "[encoded data removed]",
      "text/plain": [
       "<Figure size 432x288 with 1 Axes>"
      ]
     },
     "metadata": {
      "needs_background": "light"
     },
     "output_type": "display_data"
    }
   ],
   "source": [
    "pyplot.hist(r,20)"
   ]
  },
  {
   "cell_type": "markdown",
   "id": "eleven-weekend",
   "metadata": {},
   "source": [
    "Excersise 1 Statistics c"
   ]
  },
  {
   "cell_type": "code",
   "execution_count": 237,
   "id": "tested-threshold",
   "metadata": {},
   "outputs": [],
   "source": [
    "r1 = stats.norm.rvs(10, size=1000)"
   ]
  },
  {
   "cell_type": "code",
   "execution_count": 251,
   "id": "exempt-graphics",
   "metadata": {},
   "outputs": [],
   "source": [
    "r2 = stats.norm.rvs(11, size=1000)"
   ]
  },
  {
   "cell_type": "code",
   "execution_count": 252,
   "id": "aquatic-coverage",
   "metadata": {},
   "outputs": [
    {
     "data": {
      "text/plain": [
       "Ttest_indResult(statistic=-22.41289612755924, pvalue=1.9652185532995782e-99)"
      ]
     },
     "execution_count": 252,
     "metadata": {},
     "output_type": "execute_result"
    }
   ],
   "source": [
    "stats.ttest_ind(r1,r2)"
   ]
  },
  {
   "cell_type": "markdown",
   "id": "wound-chambers",
   "metadata": {},
   "source": [
    "..which means they are different (10 vs 11)"
   ]
  },
  {
   "cell_type": "code",
   "execution_count": null,
   "id": "unsigned-australian",
   "metadata": {},
   "outputs": [],
   "source": []
  }
 ],
 "metadata": {
  "kernelspec": {
   "display_name": "Python 3",
   "language": "python",
   "name": "python3"
  },
  "language_info": {
   "codemirror_mode": {
    "name": "ipython",
    "version": 3
   },
   "file_extension": ".py",
   "mimetype": "text/x-python",
   "name": "python",
   "nbconvert_exporter": "python",
   "pygments_lexer": "ipython3",
   "version": "3.8.5"
  }
 },
 "nbformat": 4,
 "nbformat_minor": 5
}
