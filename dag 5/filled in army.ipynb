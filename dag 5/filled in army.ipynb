{
 "cells": [
  {
   "cell_type": "markdown",
   "metadata": {},
   "source": [
    "# Fictional Army - Filtering and Sorting"
   ]
  },
  {
   "cell_type": "markdown",
   "metadata": {},
   "source": [
    "### Introduction:\n",
    "\n",
    "This exercise was inspired by this [page](http://chrisalbon.com/python/)\n",
    "\n",
    "Special thanks to: https://github.com/chrisalbon for sharing the dataset and materials.\n",
    "\n",
    "### Step 1. Import the necessary libraries"
   ]
  },
  {
   "cell_type": "code",
   "execution_count": null,
   "metadata": {},
   "outputs": [],
   "source": [
    "import pandas as pd"
   ]
  },
  {
   "cell_type": "markdown",
   "metadata": {},
   "source": [
    "### Step 2. This is the data given as a dictionary"
   ]
  },
  {
   "cell_type": "code",
   "execution_count": 4,
   "metadata": {
    "collapsed": true
   },
   "outputs": [],
   "source": [
    "# Create an example dataframe about a fictional army\n",
    "raw_data = {'regiment': ['Nighthawks', 'Nighthawks', 'Nighthawks', 'Nighthawks', 'Dragoons', 'Dragoons', 'Dragoons', 'Dragoons', 'Scouts', 'Scouts', 'Scouts', 'Scouts'],\n",
    "            'company': ['1st', '1st', '2nd', '2nd', '1st', '1st', '2nd', '2nd','1st', '1st', '2nd', '2nd'],\n",
    "            'deaths': [523, 52, 25, 616, 43, 234, 523, 62, 62, 73, 37, 35],\n",
    "            'battles': [5, 42, 2, 2, 4, 7, 8, 3, 4, 7, 8, 9],\n",
    "            'size': [1045, 957, 1099, 1400, 1592, 1006, 987, 849, 973, 1005, 1099, 1523],\n",
    "            'veterans': [1, 5, 62, 26, 73, 37, 949, 48, 48, 435, 63, 345],\n",
    "            'readiness': [1, 2, 3, 3, 2, 1, 2, 3, 2, 1, 2, 3],\n",
    "            'armored': [1, 0, 1, 1, 0, 1, 0, 1, 0, 0, 1, 1],\n",
    "            'deserters': [4, 24, 31, 2, 3, 4, 24, 31, 2, 3, 2, 3],\n",
    "            'origin': ['Arizona', 'California', 'Texas', 'Florida', 'Maine', 'Iowa', 'Alaska', 'Washington', 'Oregon', 'Wyoming', 'Louisana', 'Georgia']}"
   ]
  },
  {
   "cell_type": "markdown",
   "metadata": {},
   "source": [
    "### Step 3. Create a dataframe and assign it to a variable called army. \n",
    "\n",
    "#### Don't forget to include the columns names"
   ]
  },
  {
   "cell_type": "code",
   "execution_count": null,
   "metadata": {},
   "outputs": [],
   "source": [
    "army = pd.DataFrame(raw_data)"
   ]
  },
  {
   "cell_type": "markdown",
   "metadata": {},
   "source": [
    "### Step 4. Set the 'origin' colum as the index of the dataframe"
   ]
  },
  {
   "cell_type": "code",
   "execution_count": null,
   "metadata": {},
   "outputs": [],
   "source": [
    "army=army.set_index('origin')"
   ]
  },
  {
   "cell_type": "markdown",
   "metadata": {},
   "source": [
    "### Step 5. Print only the column veterans"
   ]
  },
  {
   "cell_type": "code",
   "execution_count": null,
   "metadata": {},
   "outputs": [],
   "source": [
    "army['veterans']\n",
    "Out[59]: \n",
    "origin\n",
    "Arizona         1\n",
    "California      5\n",
    "Texas          62\n",
    "Florida        26\n",
    "Maine          73\n",
    "Iowa           37\n",
    "Alaska        949\n",
    "Washington     48\n",
    "Oregon         48\n",
    "Wyoming       435\n",
    "Louisana       63\n",
    "Georgia       345\n",
    "Name: veterans, dtype: int64"
   ]
  },
  {
   "cell_type": "markdown",
   "metadata": {},
   "source": [
    "### Step 6. Print the columns 'veterans' and 'deaths'"
   ]
  },
  {
   "cell_type": "code",
   "execution_count": null,
   "metadata": {},
   "outputs": [],
   "source": [
    "print(army[['veterans', 'deaths']])\n",
    "            veterans  deaths\n",
    "origin                      \n",
    "Arizona            1     523\n",
    "California         5      52\n",
    "Texas             62      25\n",
    "Florida           26     616\n",
    "Maine             73      43\n",
    "Iowa              37     234\n",
    "Alaska           949     523\n",
    "Washington        48      62\n",
    "Oregon            48      62\n",
    "Wyoming          435      73\n",
    "Louisana          63      37\n",
    "Georgia          345      35"
   ]
  },
  {
   "cell_type": "markdown",
   "metadata": {},
   "source": [
    "### Step 7. Print the name of all the columns."
   ]
  },
  {
   "cell_type": "code",
   "execution_count": null,
   "metadata": {},
   "outputs": [],
   "source": [
    "print(army.columns)\n",
    "Index(['regiment', 'company', 'deaths', 'battles', 'size', 'veterans',\n",
    "       'readiness', 'armored', 'deserters'],\n",
    "      dtype='object')"
   ]
  },
  {
   "cell_type": "markdown",
   "metadata": {},
   "source": [
    "### Step 8. Select the 'deaths', 'size' and 'deserters' columns from Maine and Alaska"
   ]
  },
  {
   "cell_type": "code",
   "execution_count": null,
   "metadata": {},
   "outputs": [],
   "source": [
    "army.loc[['Maine','Alaska']][['deaths','size','deserters']]\n",
    "Out[77]: \n",
    "        deaths  size  deserters\n",
    "origin                         \n",
    "Maine       43  1592          3\n",
    "Alaska     523   987         24"
   ]
  },
  {
   "cell_type": "markdown",
   "metadata": {},
   "source": [
    "### Step 9. Select the rows 3 to 7 and the columns 3 to 6"
   ]
  },
  {
   "cell_type": "code",
   "execution_count": null,
   "metadata": {},
   "outputs": [],
   "source": [
    "army.iloc[2:7,2:6]\n",
    "Out[88]: \n",
    "         deaths  battles  size  veterans\n",
    "origin                                  \n",
    "Texas        25        2  1099        62\n",
    "Florida     616        2  1400        26\n",
    "Maine        43        4  1592        73\n",
    "Iowa        234        7  1006        37\n",
    "Alaska      523        8   987       949"
   ]
  },
  {
   "cell_type": "markdown",
   "metadata": {},
   "source": [
    "### Step 10. Select every row after the fourth row"
   ]
  },
  {
   "cell_type": "code",
   "execution_count": null,
   "metadata": {},
   "outputs": [],
   "source": [
    "army.iloc[4:,:]\n",
    "Out[91]: \n",
    "            regiment company  deaths  ...  readiness  armored  deserters\n",
    "origin                                ...                               \n",
    "Maine       Dragoons     1st      43  ...          2        0          3\n",
    "Iowa        Dragoons     1st     234  ...          1        1          4\n",
    "Alaska      Dragoons     2nd     523  ...          2        0         24\n",
    "Washington  Dragoons     2nd      62  ...          3        1         31\n",
    "Oregon        Scouts     1st      62  ...          2        0          2\n",
    "Wyoming       Scouts     1st      73  ...          1        0          3\n",
    "Louisana      Scouts     2nd      37  ...          2        1          2\n",
    "Georgia       Scouts     2nd      35  ...          3        1          3\n",
    "\n",
    "[8 rows x 9 columns]"
   ]
  },
  {
   "cell_type": "markdown",
   "metadata": {},
   "source": [
    "### Step 11. Select every row up to the 4th row"
   ]
  },
  {
   "cell_type": "code",
   "execution_count": null,
   "metadata": {},
   "outputs": [],
   "source": [
    "army.iloc[:4,:]\n",
    "Out[92]: \n",
    "              regiment company  deaths  ...  readiness  armored  deserters\n",
    "origin                                  ...                               \n",
    "Arizona     Nighthawks     1st     523  ...          1        1          4\n",
    "California  Nighthawks     1st      52  ...          2        0         24\n",
    "Texas       Nighthawks     2nd      25  ...          3        1         31\n",
    "Florida     Nighthawks     2nd     616  ...          3        1          2\n",
    "\n",
    "[4 rows x 9 columns]"
   ]
  },
  {
   "cell_type": "markdown",
   "metadata": {},
   "source": [
    "### Step 12. Select the 3rd column up to the 7th column"
   ]
  },
  {
   "cell_type": "code",
   "execution_count": null,
   "metadata": {},
   "outputs": [],
   "source": [
    "army.iloc[:,2:7]\n",
    "Out[93]: \n",
    "            deaths  battles  size  veterans  readiness\n",
    "origin                                                \n",
    "Arizona        523        5  1045         1          1\n",
    "California      52       42   957         5          2\n",
    "Texas           25        2  1099        62          3\n",
    "Florida        616        2  1400        26          3\n",
    "Maine           43        4  1592        73          2\n",
    "Iowa           234        7  1006        37          1\n",
    "Alaska         523        8   987       949          2\n",
    "Washington      62        3   849        48          3\n",
    "Oregon          62        4   973        48          2\n",
    "Wyoming         73        7  1005       435          1\n",
    "Louisana        37        8  1099        63          2\n",
    "Georgia         35        9  1523       345          3"
   ]
  },
  {
   "cell_type": "markdown",
   "metadata": {},
   "source": [
    "### Step 13. Select rows where df.deaths is greater than 50"
   ]
  },
  {
   "cell_type": "code",
   "execution_count": null,
   "metadata": {},
   "outputs": [],
   "source": [
    "army[army['deaths']>50]\n",
    "Out[96]: \n",
    "              regiment company  deaths  ...  readiness  armored  deserters\n",
    "origin                                  ...                               \n",
    "Arizona     Nighthawks     1st     523  ...          1        1          4\n",
    "California  Nighthawks     1st      52  ...          2        0         24\n",
    "Florida     Nighthawks     2nd     616  ...          3        1          2\n",
    "Iowa          Dragoons     1st     234  ...          1        1          4\n",
    "Alaska        Dragoons     2nd     523  ...          2        0         24\n",
    "Washington    Dragoons     2nd      62  ...          3        1         31\n",
    "Oregon          Scouts     1st      62  ...          2        0          2\n",
    "Wyoming         Scouts     1st      73  ...          1        0          3\n",
    "\n",
    "[8 rows x 9 columns]"
   ]
  },
  {
   "cell_type": "markdown",
   "metadata": {},
   "source": [
    "### Step 14. Select rows where df.deaths is greater than 500 or less than 50"
   ]
  },
  {
   "cell_type": "code",
   "execution_count": null,
   "metadata": {},
   "outputs": [],
   "source": [
    "army[(army['deaths']>500)| (army['deaths']<50)]\n",
    "Out[101]: \n",
    "            regiment company  deaths  ...  readiness  armored  deserters\n",
    "origin                                ...                               \n",
    "Arizona   Nighthawks     1st     523  ...          1        1          4\n",
    "Texas     Nighthawks     2nd      25  ...          3        1         31\n",
    "Florida   Nighthawks     2nd     616  ...          3        1          2\n",
    "Maine       Dragoons     1st      43  ...          2        0          3\n",
    "Alaska      Dragoons     2nd     523  ...          2        0         24\n",
    "Louisana      Scouts     2nd      37  ...          2        1          2\n",
    "Georgia       Scouts     2nd      35  ...          3        1          3\n",
    "\n",
    "[7 rows x 9 columns]"
   ]
  },
  {
   "cell_type": "markdown",
   "metadata": {},
   "source": [
    "### Step 15. Select all the regiments not named \"Dragoons\""
   ]
  },
  {
   "cell_type": "code",
   "execution_count": null,
   "metadata": {},
   "outputs": [],
   "source": [
    "army[~(army['regiment']=='Dragoons')]\n",
    "Out[105]: \n",
    "              regiment company  deaths  ...  readiness  armored  deserters\n",
    "origin                                  ...                               \n",
    "Arizona     Nighthawks     1st     523  ...          1        1          4\n",
    "California  Nighthawks     1st      52  ...          2        0         24\n",
    "Texas       Nighthawks     2nd      25  ...          3        1         31\n",
    "Florida     Nighthawks     2nd     616  ...          3        1          2\n",
    "Oregon          Scouts     1st      62  ...          2        0          2\n",
    "Wyoming         Scouts     1st      73  ...          1        0          3\n",
    "Louisana        Scouts     2nd      37  ...          2        1          2\n",
    "Georgia         Scouts     2nd      35  ...          3        1          3\n",
    "\n",
    "[8 rows x 9 columns]"
   ]
  },
  {
   "cell_type": "markdown",
   "metadata": {},
   "source": [
    "### Step 16. Select the rows called Texas and Arizona"
   ]
  },
  {
   "cell_type": "code",
   "execution_count": null,
   "metadata": {},
   "outputs": [],
   "source": [
    "army.loc[['Texas','Arizona']]\n",
    "Out[109]: \n",
    "           regiment company  deaths  ...  readiness  armored  deserters\n",
    "origin                               ...                               \n",
    "Texas    Nighthawks     2nd      25  ...          3        1         31\n",
    "Arizona  Nighthawks     1st     523  ...          1        1          4\n",
    "\n",
    "[2 rows x 9 columns]"
   ]
  },
  {
   "cell_type": "markdown",
   "metadata": {},
   "source": [
    "### Step 17. Select the third cell in the row named Arizona"
   ]
  },
  {
   "cell_type": "code",
   "execution_count": null,
   "metadata": {},
   "outputs": [],
   "source": [
    "army.loc[['Arizona']][[army.columns[2]]]\n",
    "Out[117]: \n",
    "         deaths\n",
    "origin         \n",
    "Arizona     523\n",
    "\n",
    "...this really feels wrong. Is this the correct way?"
   ]
  },
  {
   "cell_type": "markdown",
   "metadata": {},
   "source": [
    "### Step 18. Select the third cell down in the column named deaths"
   ]
  },
  {
   "cell_type": "code",
   "execution_count": null,
   "metadata": {},
   "outputs": [],
   "source": [
    "army['deaths'].iloc[[2]]\n",
    "Out[128]: \n",
    "origin\n",
    "Texas    25\n",
    "Name: deaths, dtype: int64"
   ]
  }
 ],
 "metadata": {
  "kernelspec": {
   "display_name": "Python 3",
   "language": "python",
   "name": "python3"
  },
  "language_info": {
   "codemirror_mode": {
    "name": "ipython",
    "version": 3
   },
   "file_extension": ".py",
   "mimetype": "text/x-python",
   "name": "python",
   "nbconvert_exporter": "python",
   "pygments_lexer": "ipython3",
   "version": "3.8.5"
  }
 },
 "nbformat": 4,
 "nbformat_minor": 1
}
