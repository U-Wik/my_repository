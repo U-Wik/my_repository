{
 "cells": [
  {
   "cell_type": "markdown",
   "metadata": {},
   "source": [
    "# Ex - GroupBy"
   ]
  },
  {
   "cell_type": "markdown",
   "metadata": {},
   "source": [
    "### Introduction:\n",
    "\n",
    "GroupBy can be summarizes as Split-Apply-Combine.\n",
    "\n",
    "Special thanks to: https://github.com/justmarkham for sharing the dataset and materials.\n",
    "\n",
    "Check out this [Diagram](http://i.imgur.com/yjNkiwL.png)  \n",
    "### Step 1. Import the necessary libraries"
   ]
  },
  {
   "cell_type": "code",
   "execution_count": null,
   "metadata": {},
   "outputs": [],
   "source": [
    "Could not get jupyter notebook to work with pandas so this is how I did it in IPython (Spyder)\n",
    "\n",
    "import pandas as pd"
   ]
  },
  {
   "cell_type": "markdown",
   "metadata": {},
   "source": [
    "### Step 2. Import the dataset from this [address](https://raw.githubusercontent.com/justmarkham/DAT8/master/data/drinks.csv). "
   ]
  },
  {
   "cell_type": "markdown",
   "metadata": {},
   "source": [
    "### Step 3. Assign it to a variable called drinks."
   ]
  },
  {
   "cell_type": "code",
   "execution_count": null,
   "metadata": {},
   "outputs": [],
   "source": [
    "drinks = pd.read_csv('drinks.txt', sep='\\\\t')"
   ]
  },
  {
   "cell_type": "markdown",
   "metadata": {},
   "source": [
    "### Step 4. Which continent drinks more beer on average?"
   ]
  },
  {
   "cell_type": "code",
   "execution_count": null,
   "metadata": {},
   "outputs": [],
   "source": [
    "drinks.groupby(['continent'])['total_litres_of_pure_alcohol'].count()\n",
    "Out[137]: \n",
    "continent\n",
    "AF    53\n",
    "AS    44\n",
    "EU    45\n",
    "OC    16\n",
    "SA    12\n",
    "Name: total_litres_of_pure_alcohol, dtype: int64\n",
    "        \n",
    "        ... so Africa"
   ]
  },
  {
   "cell_type": "markdown",
   "metadata": {},
   "source": [
    "### Step 5. For each continent print the statistics for wine consumption."
   ]
  },
  {
   "cell_type": "code",
   "execution_count": null,
   "metadata": {},
   "outputs": [],
   "source": [
    "print(drinks.groupby(['continent'])['wine_servings'].count())\n",
    "continent\n",
    "AF    53\n",
    "AS    44\n",
    "EU    45\n",
    "OC    16\n",
    "SA    12\n",
    "Name: wine_servings, dtype: int64"
   ]
  },
  {
   "cell_type": "markdown",
   "metadata": {},
   "source": [
    "### Step 6. Print the mean alcoohol consumption per continent for every column"
   ]
  },
  {
   "cell_type": "code",
   "execution_count": null,
   "metadata": {},
   "outputs": [],
   "source": [
    "print(drinks.groupby(['continent']).mean())\n",
    "           beer_servings  ...  total_litres_of_pure_alcohol\n",
    "continent                 ...                              \n",
    "AF             61.471698  ...                      3.007547\n",
    "AS             37.045455  ...                      2.170455\n",
    "EU            193.777778  ...                      8.617778\n",
    "OC             89.687500  ...                      3.381250\n",
    "SA            175.083333  ...                      6.308333\n",
    "\n",
    "[5 rows x 4 columns]"
   ]
  },
  {
   "cell_type": "markdown",
   "metadata": {},
   "source": [
    "### Step 7. Print the median alcoohol consumption per continent for every column"
   ]
  },
  {
   "cell_type": "code",
   "execution_count": null,
   "metadata": {},
   "outputs": [],
   "source": [
    "print(drinks.groupby(['continent']).median())\n",
    "           beer_servings  ...  total_litres_of_pure_alcohol\n",
    "continent                 ...                              \n",
    "AF                  32.0  ...                          2.30\n",
    "AS                  17.5  ...                          1.20\n",
    "EU                 219.0  ...                         10.00\n",
    "OC                  52.5  ...                          1.75\n",
    "SA                 162.5  ...                          6.85\n",
    "\n",
    "[5 rows x 4 columns]"
   ]
  },
  {
   "cell_type": "markdown",
   "metadata": {},
   "source": [
    "### Step 8. Print the mean, min and max values for spirit consumption.\n",
    "#### This time output a DataFrame"
   ]
  },
  {
   "cell_type": "code",
   "execution_count": null,
   "metadata": {},
   "outputs": [],
   "source": [
    "spirits=pd.DataFrame({'mean': [drinks['spirit_servings'].mean()], 'min':[drinks['spirit_servings'].min()],'max':[drinks['spirit_servings'].max()]})\n",
    "\n",
    "spirits\n",
    "Out[168]: \n",
    "        mean  min  max\n",
    "0  80.994819    0  438"
   ]
  }
 ],
 "metadata": {
  "kernelspec": {
   "display_name": "Python 3",
   "language": "python",
   "name": "python3"
  },
  "language_info": {
   "codemirror_mode": {
    "name": "ipython",
    "version": 3
   },
   "file_extension": ".py",
   "mimetype": "text/x-python",
   "name": "python",
   "nbconvert_exporter": "python",
   "pygments_lexer": "ipython3",
   "version": "3.8.5"
  }
 },
 "nbformat": 4,
 "nbformat_minor": 1
}
