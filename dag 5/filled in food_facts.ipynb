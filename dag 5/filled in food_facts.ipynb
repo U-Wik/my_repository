{
 "cells": [
  {
   "cell_type": "markdown",
   "metadata": {},
   "source": [
    "# Exercise 1"
   ]
  },
  {
   "cell_type": "markdown",
   "metadata": {},
   "source": [
    "### Step 1. Go to https://www.kaggle.com/openfoodfacts/world-food-facts/data"
   ]
  },
  {
   "cell_type": "markdown",
   "metadata": {},
   "source": [
    "### Step 2. Download the dataset to your computer and unzip it."
   ]
  },
  {
   "cell_type": "markdown",
   "metadata": {},
   "source": [
    "### Step 3. Use the tsv file and assign it to a dataframe called food"
   ]
  },
  {
   "cell_type": "code",
   "execution_count": null,
   "metadata": {},
   "outputs": [],
   "source": [
    "I couldn't get Jupyter notebook to work with panda so here is how I did it in IPython (Spyder)\n",
    "\n",
    "import pandas as pd\n",
    "\n",
    "food = pd.read_csv('products.tsv', sep='\\t')\n"
   ]
  },
  {
   "cell_type": "markdown",
   "metadata": {},
   "source": [
    "### Step 4. See the first 5 entries"
   ]
  },
  {
   "cell_type": "code",
   "execution_count": null,
   "metadata": {},
   "outputs": [],
   "source": [
    "\n",
    "food.columns\n",
    "Out[25]: \n",
    "Index(['code', 'url', 'creator', 'created_t', 'created_datetime',\n",
    "       'last_modified_t', 'last_modified_datetime', 'product_name',\n",
    "       'generic_name', 'quantity',\n",
    "       ...\n",
    "       'fruits-vegetables-nuts_100g', 'fruits-vegetables-nuts-estimate_100g',\n",
    "       'collagen-meat-protein-ratio_100g', 'cocoa_100g', 'chlorophyl_100g',\n",
    "       'carbon-footprint_100g', 'nutrition-score-fr_100g',\n",
    "       'nutrition-score-uk_100g', 'glycemic-index_100g',\n",
    "       'water-hardness_100g'],\n",
    "      dtype='object', length=163)\n",
    "\n",
    "\n",
    "\n",
    "food['product_name'][:5]\n",
    "Out[31]: \n",
    "0                Farine de blé noir\n",
    "1    Banana Chips Sweetened (Whole)\n",
    "2                           Peanuts\n",
    "3            Organic Salted Nut Mix\n",
    "4                   Organic Polenta\n",
    "Name: product_name, dtype: object\n",
    "        \n",
    "        .... which are the 5 first entries (products)"
   ]
  },
  {
   "cell_type": "markdown",
   "metadata": {},
   "source": [
    "### Step 5. What is the number of observations in the dataset?"
   ]
  },
  {
   "cell_type": "code",
   "execution_count": null,
   "metadata": {
    "collapsed": true
   },
   "outputs": [],
   "source": [
    "len(food)\n",
    "Out[32]: 356027"
   ]
  },
  {
   "cell_type": "markdown",
   "metadata": {},
   "source": [
    "### Step 6. What is the number of columns in the dataset?"
   ]
  },
  {
   "cell_type": "code",
   "execution_count": null,
   "metadata": {
    "collapsed": true
   },
   "outputs": [],
   "source": [
    "len(food.columns)\n",
    "Out[33]: 163"
   ]
  },
  {
   "cell_type": "markdown",
   "metadata": {},
   "source": [
    "### Step 7. Print the name of all the columns."
   ]
  },
  {
   "cell_type": "code",
   "execution_count": null,
   "metadata": {
    "collapsed": true
   },
   "outputs": [],
   "source": [
    "food.columns\n",
    "Out[25]: \n",
    "Index(['code', 'url', 'creator', 'created_t', 'created_datetime',\n",
    "       'last_modified_t', 'last_modified_datetime', 'product_name',\n",
    "       'generic_name', 'quantity',\n",
    "       ...\n",
    "       'fruits-vegetables-nuts_100g', 'fruits-vegetables-nuts-estimate_100g',\n",
    "       'collagen-meat-protein-ratio_100g', 'cocoa_100g', 'chlorophyl_100g',\n",
    "       'carbon-footprint_100g', 'nutrition-score-fr_100g',\n",
    "       'nutrition-score-uk_100g', 'glycemic-index_100g',\n",
    "       'water-hardness_100g'],\n",
    "      dtype='object', length=163)\n",
    "\n",
    "I dont know how to print them all instead of ..."
   ]
  },
  {
   "cell_type": "markdown",
   "metadata": {},
   "source": [
    "### Step 8. What is the name of 105th column?"
   ]
  },
  {
   "cell_type": "code",
   "execution_count": null,
   "metadata": {
    "collapsed": true
   },
   "outputs": [],
   "source": [
    "food.columns[104]\n",
    "Out[35]: '-glucose_100g'"
   ]
  },
  {
   "cell_type": "markdown",
   "metadata": {},
   "source": [
    "### Step 9. What is the type of the observations of the 105th column?"
   ]
  },
  {
   "cell_type": "code",
   "execution_count": null,
   "metadata": {
    "collapsed": true
   },
   "outputs": [],
   "source": [
    "type(food.columns[104][3])\n",
    "Out[37]: str"
   ]
  },
  {
   "cell_type": "markdown",
   "metadata": {},
   "source": [
    "### Step 10. How is the dataset indexed?"
   ]
  },
  {
   "cell_type": "code",
   "execution_count": null,
   "metadata": {
    "collapsed": true
   },
   "outputs": [],
   "source": [
    "code (or index) and headers\n",
    "\n",
    "\n",
    "food.head\n",
    "Out[38]: \n",
    "<bound method NDFrame.head of                  code  ... water-hardness_100g\n",
    "0                3087  ...                 NaN\n",
    "1                4530  ...                 NaN\n",
    "2                4559  ...                 NaN\n",
    "3               16087  ...                 NaN\n",
    "4               16094  ...                 NaN\n",
    "              ...  ...                 ...\n",
    "356022       99567453  ...                 NaN\n",
    "356023  9970229501521  ...                 NaN\n",
    "356024  9977471758307  ...                 NaN\n",
    "356025  9980282863788  ...                 NaN\n",
    "356026   999990026839  ...                 NaN\n",
    "\n",
    "[356027 rows x 163 columns]>\n"
   ]
  },
  {
   "cell_type": "markdown",
   "metadata": {},
   "source": [
    "### Step 11. What is the product name of the 19th observation?"
   ]
  },
  {
   "cell_type": "code",
   "execution_count": null,
   "metadata": {
    "collapsed": true
   },
   "outputs": [],
   "source": [
    "food['product_name'][18]\n",
    "Out[43]: 'Lotus Organic Brown Jasmine Rice'"
   ]
  }
 ],
 "metadata": {
  "anaconda-cloud": {},
  "kernelspec": {
   "display_name": "Python 3",
   "language": "python",
   "name": "python3"
  },
  "language_info": {
   "codemirror_mode": {
    "name": "ipython",
    "version": 3
   },
   "file_extension": ".py",
   "mimetype": "text/x-python",
   "name": "python",
   "nbconvert_exporter": "python",
   "pygments_lexer": "ipython3",
   "version": "3.8.5"
  }
 },
 "nbformat": 4,
 "nbformat_minor": 1
}
