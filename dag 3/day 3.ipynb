{
 "cells": [
  {
   "cell_type": "markdown",
   "id": "radical-samba",
   "metadata": {},
   "source": [
    "3 Profiling\n",
    "\n",
    "3a: using profiling in Spyder\n",
    "\n",
    "The lines that took longest time:   \n",
    "per hit: Y.append([random.randint(0,100) for r in range(N+1)])\n",
    "in total: result[i][j] += X[i][k] * Y[k][j]\n",
    "...so I would start with the latter.\n",
    "\n",
    "I get very odd results on memory usage using N=250)\n",
    "largest increase (0.621 MB) at line:    X.append([random.randint(0,100) for r in range(N)])\n",
    "but all append-lines increased memory usage.\n",
    "\n",
    "but then I got negative values in memory usage in the i, j and k loops\n",
    "mostly negative (-16 GB) in line:   result[i][j] += X[i][k] * Y[k][j]\n",
    "I have no idea what that means.\n",
    "\n",
    "3b:\n",
    "The lines taking most time seem to be\n",
    "if(d > sqrt(l[j]))\n",
    "and\n",
    "if(l[j] % d == 0)\n",
    "...so these should be targeted first. Possibly precalulate square roots (once).\n",
    "\n",
    "Memory wise I dont get any increment in memory usage (0.000 MB).\n",
    "Is that because the overall allocated memory (using Spyder) is large enough anyway?\n",
    "\n",
    "3c:\n",
    "Without using numpy (which was introduced in Day 3) I can't see much room for improvement. \n",
    "I was expecting that using N and M=N+1 instead of len(X) etc. would give some benefit but it didn't.\n",
    "I wonder what the reason for that is.\n",
    "\n",
    "23.0 seconds (best of 3) vs the original 22.9 seconds (best of 3)"
   ]
  }
 ],
 "metadata": {
  "kernelspec": {
   "display_name": "Python 3",
   "language": "python",
   "name": "python3"
  },
  "language_info": {
   "codemirror_mode": {
    "name": "ipython",
    "version": 3
   },
   "file_extension": ".py",
   "mimetype": "text/x-python",
   "name": "python",
   "nbconvert_exporter": "python",
   "pygments_lexer": "ipython3",
   "version": "3.8.5"
  }
 },
 "nbformat": 4,
 "nbformat_minor": 5
}
