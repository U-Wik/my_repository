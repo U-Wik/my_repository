{
 "cells": [
  {
   "cell_type": "markdown",
   "id": "composed-mixer",
   "metadata": {},
   "source": [
    "Excersise 1a\n",
    "\n",
    "\n",
    "Timings with primes as python\n",
    "\n",
    "%timeit primesp.primes(2000)\n",
    "\n",
    "293 ms ± 7.47 ms per loop (mean ± std. dev. of 7 runs, 1 loop each)\n",
    "\n",
    " \n",
    " \n",
    "\n",
    "Timings when the same script used as cython\n",
    "\n",
    "%timeit primes_basic.primes(2000)\n",
    "\n",
    "235 ms ± 1.72 ms per loop (mean ± std. dev. of 7 runs, 1 loop each)\n",
    "\n",
    "\n",
    "\n",
    "Timings when script was modified as during the lecture with c integers\n",
    "\n",
    "%timeit primes_cint.primes(2000)\n",
    "\n",
    "1.65 ms ± 7.5 µs per loop (mean ± std. dev. of 7 runs, 1000 loops each)\n",
    "\n",
    "\n",
    "\n"
   ]
  },
  {
   "cell_type": "markdown",
   "id": "floppy-digit",
   "metadata": {},
   "source": [
    "Excersise 1b\n",
    "\n",
    "Not sure if this is what was asked but...\n",
    "\n",
    "%timeit rbf.rbf_network(X, beta, theta)\n",
    "7.08 s ± 149 ms per loop (mean ± std. dev. of 7 runs, 1 loop each)\n",
    "\n",
    "%timeit rbf.rbf_scipy(X, beta)\n",
    "83.6 ms ± 3.25 ms per loop (mean ± std. dev. of 7 runs, 10 loops each)\n",
    "\n",
    "so the scipy version is some 100 times faster\n",
    "\n",
    "\n",
    "(Even without the timeit, importing function already revealed so\n",
    "\n",
    "Python:  6.8516740798950195\n",
    "Scipy:  0.16843366622924805)"
   ]
  },
  {
   "cell_type": "markdown",
   "id": "nasty-state",
   "metadata": {},
   "source": [
    "Excersise 1c\n",
    "\n",
    "mostly the line\n",
    "r += (X[j, d] - X[i, d]) ** 2\n",
    "\n",
    "more than 3 times time consuming than the next (or more than 50% of total time)"
   ]
  },
  {
   "cell_type": "code",
   "execution_count": null,
   "id": "acoustic-forest",
   "metadata": {},
   "outputs": [],
   "source": [
    "Excersise 1d\n",
    "\n",
    "%timeit rbf_basic.rbf_network(X, beta, theta)\n",
    "5.87 s ± 86.1 ms per loop (mean ± std. dev. of 7 runs, 1 loop each)\n",
    "\n",
    "%timeit rbf_basic.rbf_scipy(X, beta)\n",
    "78.2 ms ± 2.95 ms per loop (mean ± std. dev. of 7 runs, 10 loops each)\n",
    "\n",
    "so by only using \"network\" as a cython module 5.87s compared to the 7.08 in 1c\n",
    "\n",
    "or by only using \"scipy\" as a cython module 0.08s compared to 0.08 in 1c (so the same)\n",
    "\n"
   ]
  }
 ],
 "metadata": {
  "kernelspec": {
   "display_name": "Python 3",
   "language": "python",
   "name": "python3"
  },
  "language_info": {
   "codemirror_mode": {
    "name": "ipython",
    "version": 3
   },
   "file_extension": ".py",
   "mimetype": "text/x-python",
   "name": "python",
   "nbconvert_exporter": "python",
   "pygments_lexer": "ipython3",
   "version": "3.8.5"
  }
 },
 "nbformat": 4,
 "nbformat_minor": 5
}
