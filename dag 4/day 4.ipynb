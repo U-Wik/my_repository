{
 "cells": [
  {
   "cell_type": "markdown",
   "id": "composed-mixer",
   "metadata": {},
   "source": [
    "Excersise 1a\n",
    "\n",
    "\n",
    "Timings with primes as python\n",
    "\n",
    "%timeit primesp.primes(2000)\n",
    "\n",
    "293 ms ± 7.47 ms per loop (mean ± std. dev. of 7 runs, 1 loop each)\n",
    "\n",
    " \n",
    " \n",
    "\n",
    "Timings when the same script used as cython\n",
    "\n",
    "%timeit primes_basic.primes(2000)\n",
    "\n",
    "235 ms ± 1.72 ms per loop (mean ± std. dev. of 7 runs, 1 loop each)\n",
    "\n",
    "\n",
    "\n",
    "Timings when script was modified as during the lecture with c integers\n",
    "\n",
    "%timeit primes_cint.primes(2000)\n",
    "\n",
    "1.65 ms ± 7.5 µs per loop (mean ± std. dev. of 7 runs, 1000 loops each)\n",
    "\n",
    "\n",
    "\n"
   ]
  },
  {
   "cell_type": "markdown",
   "id": "floppy-digit",
   "metadata": {},
   "source": [
    "Excersise 1b\n",
    "\n",
    "Not sure if this is what was asked but...\n",
    "\n",
    "%timeit rbf.rbf_network(X, beta, theta)\n",
    "7.08 s ± 149 ms per loop (mean ± std. dev. of 7 runs, 1 loop each)\n",
    "\n",
    "%timeit rbf.rbf_scipy(X, beta)\n",
    "83.6 ms ± 3.25 ms per loop (mean ± std. dev. of 7 runs, 10 loops each)\n",
    "\n",
    "so the scipy version is some 100 times faster\n",
    "\n",
    "\n",
    "(Even without the timeit, importing function already revealed so\n",
    "\n",
    "Python:  6.8516740798950195\n",
    "Scipy:  0.16843366622924805)"
   ]
  },
  {
   "cell_type": "code",
   "execution_count": null,
   "id": "sublime-december",
   "metadata": {},
   "outputs": [],
   "source": [
    "Excersise 1c"
   ]
  }
 ],
 "metadata": {
  "kernelspec": {
   "display_name": "Python 3",
   "language": "python",
   "name": "python3"
  },
  "language_info": {
   "codemirror_mode": {
    "name": "ipython",
    "version": 3
   },
   "file_extension": ".py",
   "mimetype": "text/x-python",
   "name": "python",
   "nbconvert_exporter": "python",
   "pygments_lexer": "ipython3",
   "version": "3.8.5"
  }
 },
 "nbformat": 4,
 "nbformat_minor": 5
}
